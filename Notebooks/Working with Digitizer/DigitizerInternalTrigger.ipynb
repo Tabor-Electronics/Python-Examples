{
 "cells": [
  {
   "cell_type": "markdown",
   "metadata": {},
   "source": [
    "<img align=\"left\" src=\"https://www.taborelec.com/Pictures/logo.png\">"
   ]
  },
  {
   "cell_type": "markdown",
   "metadata": {},
   "source": [
    "# Digitizer Internal Trigger\n",
    "\n",
    "This script uses the Digitizer in internal Trigger mode. This is the basic Trigger mode<br>\n",
    "\n",
    "The Signal generator is confige:<br>\n",
    "DAC frequency: 2GHz;<br>\n",
    "Channel 1:<br>\n",
    " - Sinuse wave form;\n",
    " - amplitude 0.5V;\n",
    " \n",
    "Channel 2: \n",
    " - Triangular wave form;\n",
    " - amplitude 0.5V;\n",
    "          \n",
    "CH1 should be connected to Digitizer channel 1.<br> \n",
    "CH2 should be connected to Digitizer channel 2.<br>\n",
    "\n",
    "The Digitizer is confige:\n",
    " - Mode           : DUAL \n",
    " - Sample Rate    : 2.7GHz\n",
    " - Trigger source : CPU (internal)\n",
    " - The Digitizer External Trigger threshold is set to 0.7V\n",
    "\n",
    "This script uses 4 Frames with 4800 samples each.<br>\n",
    "\n",
    "Start the Digitizer;<br>\n",
    " - send 4 internal Triggers.<br>\n",
    " - Check that the MULTIY_FRAME_DONE bit goes 'high'.<br>\n",
    " \n",
    "Stop the Digitizer;<br>\n",
    "\n",
    "Read the DDR memory and polt the signals.<br>\n",
    "\n",
    "check the proteus registers and close the script.<br>\n"
   ]
  },
  {
   "cell_type": "code",
   "execution_count": null,
   "metadata": {},
   "outputs": [],
   "source": [
    "import os\n",
    "import sys\n",
    "srcpath = os.path.realpath('../../SourceFiles')\n",
    "sys.path.append(srcpath)\n",
    "from teproteus import TEProteusAdmin as TepAdmin\n",
    "from teproteus import TEProteusInst as TepInst"
   ]
  },
  {
   "cell_type": "code",
   "execution_count": null,
   "metadata": {},
   "outputs": [],
   "source": [
    "%matplotlib notebook\n",
    "import numpy as np\n",
    "import time\n",
    "import ipywidgets as widgets\n",
    "from IPython.core.debugger import set_trace\n",
    "from scipy.signal import chirp, sweep_poly\n",
    "import matplotlib.pyplot as plt"
   ]
  },
  {
   "cell_type": "code",
   "execution_count": null,
   "metadata": {},
   "outputs": [],
   "source": [
    "admin = TepAdmin()\n",
    "    \n",
    "# Get list of available PXI slots\n",
    "slot_ids = admin.get_slot_ids()\n",
    "\n",
    "# Assume that at least one slot was found\n",
    "sid = slot_ids[0]\n",
    "\n",
    " # Open a single-slot instrument:\n",
    "inst = admin.open_instrument(slot_id=sid)"
   ]
  },
  {
   "cell_type": "code",
   "execution_count": null,
   "metadata": {},
   "outputs": [],
   "source": [
    "# Set the default paranoia-level (0, 1 or 2)\n",
    "inst.default_paranoia_level = 2 # good for debugging"
   ]
  },
  {
   "cell_type": "code",
   "execution_count": null,
   "metadata": {},
   "outputs": [],
   "source": [
    "# Get the instrument's *IDN\n",
    "resp = inst.send_scpi_query('*IDN?')\n",
    "print('Connected to: ' + resp)\n",
    "\n",
    "# Get the model name\n",
    "resp = inst.send_scpi_query(\":SYST:iNF:MODel?\")\n",
    "print(\"Model: \" + resp)\n",
    "\n",
    "# Infer the natural DAC waveform format\n",
    "if 'P9082' in resp:\n",
    "    dac_mode = 8\n",
    "else:\n",
    "    dac_mode = 16\n",
    "print(\"DAC waveform format: {0} bits-per-point\".format(dac_mode))\n",
    "\n",
    "if dac_mode == 16:\n",
    "    max_dac = 65535\n",
    "    data_type = np.uint16 \n",
    "else:\n",
    "    max_dac = 255\n",
    "    data_type = np.uint8 \n",
    "    \n",
    "half_dac = max_dac / 2.0\n",
    "\n",
    "# Several initializations ..\n",
    "inst.send_scpi_cmd('*CLS; *RST')\n",
    "inst.send_scpi_cmd(':INST:CHAN 1')\n",
    "inst.send_scpi_cmd(':SOUR:FREQ 2.0e9')\n",
    "inst.send_scpi_cmd(':TRAC:DEL:ALL')\n",
    "resp = inst.send_scpi_query(':SYST:ERR?')\n",
    "print(resp)"
   ]
  },
  {
   "cell_type": "markdown",
   "metadata": {},
   "source": [
    "## Configure Generator"
   ]
  },
  {
   "cell_type": "code",
   "execution_count": null,
   "metadata": {},
   "outputs": [],
   "source": [
    "# Build two AWG segment that will be used as innput for the digitizer\n",
    "cycleLen = 1024\n",
    "numCycles = 1\n",
    "segLen = cycleLen * numCycles\n",
    "\n",
    "cycleLen = 1024\n",
    "numCycles = 8\n",
    "segLen = cycleLen * numCycles\n",
    "\n",
    "# Build waveform (sine wave)\n",
    "x = np.linspace(\n",
    "    start=0, stop=2 * np.pi * numCycles, num=segLen, endpoint=False)\n",
    "\n",
    "y = (np.sin(x) + 1.0) * half_dac\n",
    "y = np.round(y)\n",
    "y = np.clip(y, 0, max_dac)\n",
    "y = y.astype(data_type)\n",
    "\n",
    "# download it to segment 2 of channel 1\n",
    "inst.send_scpi_cmd(':INST:CHAN 1')\n",
    "inst.send_scpi_cmd(':TRAC:DEF 1,' + str(segLen))\n",
    "inst.send_scpi_cmd(':TRAC:SEL 1')\n",
    "inst.send_scpi_cmd(':SOUR:FUNC:MODE:SEGM 1')\n",
    "inst.send_scpi_cmd(':SOUR:VOLT 0.5')\n",
    "inst.send_scpi_cmd(':OUTP ON')\n",
    "# download the waveform to the selected segment\n",
    "inst.write_binary_data(':TRAC:DATA', y)\n",
    "resp = inst.send_scpi_query(':SYST:ERR?')\n",
    "print(resp)\n",
    "\n",
    "y = np.sin(x)\n",
    "y = np.arcsin(y)* 2 * half_dac / np.pi + half_dac\n",
    "y = np.round(y)\n",
    "y = np.clip(y, 0, max_dac)\n",
    "y = y.astype(data_type)\n",
    "\n",
    "# download it to segment 2 of channel 1\n",
    "inst.send_scpi_cmd(':INST:CHAN 2')\n",
    "inst.send_scpi_cmd(':TRAC:DEF 2,' + str(segLen))\n",
    "inst.send_scpi_cmd(':TRAC:SEL 2')\n",
    "inst.send_scpi_cmd(':SOUR:FUNC:MODE:SEGM 2')\n",
    "inst.send_scpi_cmd(':SOUR:VOLT 0.5')\n",
    "inst.send_scpi_cmd(':OUTP ON')\n",
    "# download the waveform to the selected segment\n",
    "inst.write_binary_data(':TRAC:DATA', y)\n",
    "resp = inst.send_scpi_query(':SYST:ERR?')\n",
    "print(resp)"
   ]
  },
  {
   "cell_type": "markdown",
   "metadata": {},
   "source": [
    "## Setup Digitizer"
   ]
  },
  {
   "cell_type": "code",
   "execution_count": null,
   "metadata": {},
   "outputs": [],
   "source": [
    "# Setup the digitizer in two-channels mode\n",
    "inst.send_scpi_cmd(':DIG:MODE DUAL')\n",
    "inst.send_scpi_cmd(':DIG:FREQ 2700MHZ')\n",
    "\n",
    "# Allocate four frames of 4800 samples\n",
    "numframes, framelen = 4, 4800\n",
    "cmd = ':DIG:ACQuire:FRAM:DEF {0},{1}'.format(numframes, framelen)\n",
    "inst.send_scpi_cmd(cmd)\n",
    "\n",
    "# Select the frames for the capturing \n",
    "# (all the four frames in this example)\n",
    "capture_first, capture_count = 1, numframes\n",
    "cmd = \":DIG:ACQuire:FRAM:CAPT {0},{1}\".format(capture_first, capture_count)\n",
    "inst.send_scpi_cmd(cmd)\n",
    "\n",
    "# Enable capturing data from channel 1\n",
    "inst.send_scpi_cmd(':DIG:CHAN:SEL 1')\n",
    "inst.send_scpi_cmd(':DIG:CHAN:STATE ENAB')\n",
    "# Select the internal-trigger as start-capturing trigger:\n",
    "inst.send_scpi_cmd(':DIG:TRIG:SOURCE CPU')\n",
    "\n",
    "# Enable capturing data from channel 2\n",
    "inst.send_scpi_cmd(':DIG:CHAN:SEL 2')\n",
    "inst.send_scpi_cmd(':DIG:CHAN:STATE ENAB')\n",
    "# Select the internal-trigger as start-capturing trigger:\n",
    "inst.send_scpi_cmd(':DIG:TRIG:SOURCE CPU')\n",
    "\n",
    "\n",
    "# Clean memory \n",
    "inst.send_scpi_cmd(':DIG:ACQ:ZERO:ALL')\n",
    "\n",
    "resp = inst.send_scpi_query(':SYST:ERR?')\n",
    "print(resp)\n",
    "print(\"Set Digitizer: DUAL mode; internal Trigger\")\n"
   ]
  },
  {
   "cell_type": "markdown",
   "metadata": {},
   "source": [
    "#### Acquire signals into Memory"
   ]
  },
  {
   "cell_type": "code",
   "execution_count": null,
   "metadata": {},
   "outputs": [],
   "source": [
    "# Stop the digitizer's capturing machine (to be on the safe side)\n",
    "inst.send_scpi_cmd(':DIG:INIT OFF')\n",
    "\n",
    "# Start the digitizer's capturing machine\n",
    "inst.send_scpi_cmd(':DIG:INIT ON')\n",
    "# Generate 4 software-triggers\n",
    "for _ in range(capture_count):\n",
    "    inst.send_scpi_cmd(':DIG:TRIG:IMM')\n",
    "    time.sleep(0.1) # more than  enough for capturing single frame\n",
    "    # Query the status\n",
    "    resp = inst.send_scpi_query(\":DIG:ACQuire:FRAM:STATus?\")\n",
    "    print(resp)\n",
    "\n",
    "print(\"Capture Done\")\n",
    "\n",
    "# Stop the digitizer's capturing machine (to be on the safe side)\n",
    "inst.send_scpi_cmd(':DIG:INIT OFF')\n",
    "\n",
    "resp = inst.send_scpi_query(':SYST:ERR?')\n",
    "print(resp)\n",
    "print(\"Digitizer: Finish Acquisition\")"
   ]
  },
  {
   "cell_type": "code",
   "execution_count": null,
   "metadata": {},
   "outputs": [],
   "source": [
    "# start pulse counter\n",
    "inst.send_scpi_cmd(':SHELL:REG 0x00406060,0x00000001')\n",
    "inst.send_scpi_cmd(':SHELL:REG 0x00406060,0x00000000')\n",
    "# wait for 100mSec\n",
    "done = 0\n",
    "while done == 0:\n",
    "    resp = inst.send_scpi_query(':SHELL:REG? 0x00406020')\n",
    "    a = np.bitwise_and(int(resp, 16), 0x0004)\n",
    "    if a == 0:\n",
    "        done = 1 \n",
    "Ch0 = inst.send_scpi_query(':SHELL:REG? 0x00406068')\n",
    "Ch2 = inst.send_scpi_query(':SHELL:REG? 0x0040606c')\n"
   ]
  },
  {
   "cell_type": "markdown",
   "metadata": {},
   "source": [
    "## Read all frames from Memory"
   ]
  },
  {
   "cell_type": "code",
   "execution_count": null,
   "metadata": {},
   "outputs": [],
   "source": [
    "# Choose which frames to read (all in this example)\n",
    "inst.send_scpi_cmd(':DIG:DATA:SEL ALL')\n",
    "\n",
    "# Choose what to read \n",
    "# (only the frame-data without the header in this example)\n",
    "inst.send_scpi_cmd(':DIG:DATA:TYPE FRAM')\n",
    "\n",
    "# Get the total data size (in bytes)\n",
    "resp = inst.send_scpi_query(':DIG:DATA:SIZE?')\n",
    "num_bytes = np.uint32(resp)\n",
    "print('Total size in bytes: ' + resp)\n",
    "print()\n",
    "\n",
    "# Read the data that was captured by channel 1:\n",
    "inst.send_scpi_cmd(':DIG:CHAN:SEL 1')\n",
    "\n",
    "wavlen = num_bytes // 2\n",
    "\n",
    "wav1 = np.zeros(wavlen, dtype=np.uint16)\n",
    "\n",
    "rc = inst.read_binary_data(':DIG:DATA:READ?', wav1, num_bytes)\n",
    "\n",
    "# Read the data that was captured by channel 2:\n",
    "inst.send_scpi_cmd(':DIG:CHAN:SEL 2')\n",
    "\n",
    "wavlen = num_bytes // 2\n",
    "\n",
    "wav2 = np.zeros(wavlen, dtype=np.uint16)\n",
    "\n",
    "rc = inst.read_binary_data(':DIG:DATA:READ?', wav2, num_bytes)\n",
    "\n",
    "resp = inst.send_scpi_query(':SYST:ERR?')\n",
    "print(resp)\n",
    "print(\"read data from DDR\")\n"
   ]
  },
  {
   "cell_type": "code",
   "execution_count": null,
   "metadata": {},
   "outputs": [],
   "source": [
    "# RMS calculation\n",
    "rmsCh0 = np.zeros(numframes)\n",
    "rmsCh2 = np.zeros(numframes)\n",
    "for iframe in range (numframes):\n",
    "    framewav = wav1[iframe*framelen : (iframe+1)*framelen]\n",
    "    rmsCh0[iframe] = np.sqrt(np.mean(np.square(1000*(framewav/4096))))\n",
    "    framewav = wav2[iframe*framelen : (iframe+1)*framelen]\n",
    "    rmsCh2[iframe] = np.sqrt(np.mean(np.square(1000*(framewav/4096))))\n"
   ]
  },
  {
   "cell_type": "markdown",
   "metadata": {},
   "source": [
    "## Plot Signals"
   ]
  },
  {
   "cell_type": "code",
   "execution_count": null,
   "metadata": {},
   "outputs": [],
   "source": [
    "# Plot the samples\n",
    "totlen = numframes * framelen\n",
    "x = range(numframes * framelen)\n",
    "plt.figure(1)\n",
    "ax1 = plt.subplot(211)\n",
    "ax1.set_xticks(np.arange(0, totlen, framelen))\n",
    "ax1.grid(True)\n",
    "ax1.plot(x, wav1)\n",
    "ax1.set_ylabel('CH1')\n",
    "\n",
    "ax2 = plt.subplot(212, sharex=ax1)\n",
    "ax2.set_xticks(np.arange(0, totlen, framelen))\n",
    "ax2.grid(True)\n",
    "ax2.plot(x, wav2)\n",
    "ax2.set_ylabel('CH2')\n",
    "\n",
    "plt.show()\n",
    "\n",
    "print(\"freq Channel 1: {0} Hz\".format(int(Ch0,16)*10))\n",
    "print(\"freq Channel 2: {0} Hz\".format(int(Ch2,16)*10))\n",
    "print (\"\")\n",
    "print (\"RMS Channel 0\")\n",
    "print (\"frame0 {0}mV\".format(int(rmsCh0[0])))\n",
    "print (\"frame1 {0}mV\".format(int(rmsCh0[1])))\n",
    "print (\"frame2 {0}mV\".format(int(rmsCh0[2])))\n",
    "print (\"frame2 {0}mV\".format(int(rmsCh0[3])))\n",
    "print (\"\")\n",
    "print (\"RMS Channel 2\")\n",
    "print (\"frame0 {0}mV\".format(int(rmsCh2[0])))\n",
    "print (\"frame1 {0}mV\".format(int(rmsCh2[1])))\n",
    "print (\"frame2 {0}mV\".format(int(rmsCh2[2])))\n",
    "print (\"frame2 {0}mV\".format(int(rmsCh2[3])))\n"
   ]
  },
  {
   "cell_type": "markdown",
   "metadata": {},
   "source": [
    "## End"
   ]
  },
  {
   "cell_type": "code",
   "execution_count": null,
   "metadata": {},
   "outputs": [],
   "source": [
    "# close connection\n",
    "inst.close_instrument()\n",
    "admin.close_inst_admin()"
   ]
  },
  {
   "cell_type": "code",
   "execution_count": null,
   "metadata": {},
   "outputs": [],
   "source": []
  }
 ],
 "metadata": {
  "celltoolbar": "Edit Metadata",
  "kernelspec": {
   "display_name": "Python 3",
   "language": "python",
   "name": "python3"
  },
  "language_info": {
   "codemirror_mode": {
    "name": "ipython",
    "version": 3
   },
   "file_extension": ".py",
   "mimetype": "text/x-python",
   "name": "python",
   "nbconvert_exporter": "python",
   "pygments_lexer": "ipython3",
   "version": "3.8.5"
  }
 },
 "nbformat": 4,
 "nbformat_minor": 2
}
